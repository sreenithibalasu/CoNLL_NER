{
  "nbformat": 4,
  "nbformat_minor": 0,
  "metadata": {
    "colab": {
      "name": "CoNLL_exploration.ipynb",
      "provenance": [],
      "collapsed_sections": []
    },
    "kernelspec": {
      "name": "python3",
      "display_name": "Python 3"
    },
    "language_info": {
      "name": "python"
    }
  },
  "cells": [
    {
      "cell_type": "code",
      "execution_count": 1,
      "metadata": {
        "id": "mawXpdLiuzlS"
      },
      "outputs": [],
      "source": [
        "import pandas as pd\n",
        "import numpy as np\n",
        "import matplotlib.pyplot as plt\n",
        "\n",
        "%matplotlib inline"
      ]
    },
    {
      "cell_type": "code",
      "source": [
        "f_train = open(\"./train.txt\")\n",
        "f_test = open('./test.txt')\n",
        "f_val = open('./valid.txt')"
      ],
      "metadata": {
        "id": "JcnUU6nIu42R"
      },
      "execution_count": 2,
      "outputs": []
    },
    {
      "cell_type": "code",
      "source": [
        "def txt_to_lst(f):\n",
        "\n",
        "  f.seek(0)\n",
        "  X = []\n",
        "  y = []\n",
        "  for line in f:\n",
        "\n",
        "  # check for empty lines and file start string\n",
        "\n",
        "    if len(line) > 0 and line[0] != \"\\n\" and not line.startswith(\"-DOCSTART\"):\n",
        "      chunks = line.split(\" \")\n",
        "      word = chunks[0]\n",
        "\n",
        "      if len(word) == 0:\n",
        "        continue\n",
        "        \n",
        "      label = chunks[-1][:-1]\n",
        "\n",
        "      data = {\"word\": word, \"label\": label}\n",
        "\n",
        "      X.append(word)\n",
        "      y.append(label)\n",
        "\n",
        "  return X, y"
      ],
      "metadata": {
        "id": "pfWBLhVDu_xM"
      },
      "execution_count": 3,
      "outputs": []
    },
    {
      "cell_type": "code",
      "source": [
        "X_train , y_train = txt_to_lst(f_train)\n",
        "X_test , y_test = txt_to_lst(f_test)\n",
        "X_val , y_val = txt_to_lst(f_val)"
      ],
      "metadata": {
        "id": "o42FXMsCvCeC"
      },
      "execution_count": 4,
      "outputs": []
    },
    {
      "cell_type": "code",
      "source": [
        "print(\"Number of Train Samples: \", len(X_train))\n",
        "print(\"Number of Test Samples: \", len(X_test))\n",
        "print(\"Number of Validation Samples: \", len(X_val))"
      ],
      "metadata": {
        "colab": {
          "base_uri": "https://localhost:8080/"
        },
        "id": "ZTOl2H7fvC3p",
        "outputId": "d0b1c710-f6b1-47c5-cc9b-26c980911922"
      },
      "execution_count": 5,
      "outputs": [
        {
          "output_type": "stream",
          "name": "stdout",
          "text": [
            "Number of Train Samples:  203621\n",
            "Number of Test Samples:  46435\n",
            "Number of Validation Samples:  51362\n"
          ]
        }
      ]
    },
    {
      "cell_type": "code",
      "source": [
        "print(\"Number of Categories: \", list(set(y_train)))"
      ],
      "metadata": {
        "colab": {
          "base_uri": "https://localhost:8080/"
        },
        "id": "5OiE7r3lvEw_",
        "outputId": "82f6d0be-5c50-48e0-8f83-0fbc236d8dd3"
      },
      "execution_count": 6,
      "outputs": [
        {
          "output_type": "stream",
          "name": "stdout",
          "text": [
            "Number of Categories:  ['I-MISC', 'I-PER', 'O', 'B-MISC', 'B-LOC', 'I-ORG', 'B-ORG', 'B-PER', 'I-LOC']\n"
          ]
        }
      ]
    },
    {
      "cell_type": "code",
      "source": [
        "# classes: ['PER', 'LOC', 'MISC', 'ORG']\n",
        "classes = {'PER': 1, 'LOC': 2, 'MISC': 3, 'ORG': 4, 'O':0}"
      ],
      "metadata": {
        "id": "DRlIrrRavHQ1"
      },
      "execution_count": 7,
      "outputs": []
    },
    {
      "cell_type": "code",
      "source": [
        "def str_to_cat(y_list):\n",
        "\n",
        "  y_return = []\n",
        "  for y in y_list:\n",
        "    y_return.append(classes[y.split('-')[-1]])\n",
        "\n",
        "  return y_return"
      ],
      "metadata": {
        "id": "pvzcqoPfvJ5k"
      },
      "execution_count": 8,
      "outputs": []
    },
    {
      "cell_type": "code",
      "source": [
        "y_train_enc = str_to_cat(y_train)\n",
        "y_test_enc = str_to_cat(y_test)\n",
        "y_val_enc = str_to_cat(y_val)"
      ],
      "metadata": {
        "id": "PGVYcCN2vNRf"
      },
      "execution_count": 9,
      "outputs": []
    },
    {
      "cell_type": "code",
      "source": [
        "count_classes_train = {'PER': y_train_enc.count(1), 'LOC': y_train_enc.count(2), \n",
        "                 'MISC': y_train_enc.count(3), 'ORG': y_train_enc.count(4), \n",
        "                 }"
      ],
      "metadata": {
        "id": "DcpDkPR-vR6X"
      },
      "execution_count": 13,
      "outputs": []
    },
    {
      "cell_type": "code",
      "source": [
        "count_classes_train"
      ],
      "metadata": {
        "colab": {
          "base_uri": "https://localhost:8080/"
        },
        "id": "u8T3pibWvw4O",
        "outputId": "313c4958-2a39-424e-8d31-08dbcb2016f5"
      },
      "execution_count": 11,
      "outputs": [
        {
          "output_type": "execute_result",
          "data": {
            "text/plain": [
              "{'LOC': 8297, 'MISC': 4593, 'ORG': 10025, 'PER': 11128}"
            ]
          },
          "metadata": {},
          "execution_count": 11
        }
      ]
    },
    {
      "cell_type": "code",
      "source": [
        "plt.bar(count_classes_train.keys(), count_classes_train.values())\n",
        "plt.xlabel(\"CATEGORIES\")\n",
        "plt.ylabel(\"COUNTS\")\n",
        "plt.title(\"TRAIN SET SAMPLES\");"
      ],
      "metadata": {
        "colab": {
          "base_uri": "https://localhost:8080/",
          "height": 295
        },
        "id": "ZcW5tB57v410",
        "outputId": "1983887c-bbf9-4a45-db7d-96ca7543e6d0"
      },
      "execution_count": 17,
      "outputs": [
        {
          "output_type": "display_data",
          "data": {
            "text/plain": [
              "<Figure size 432x288 with 1 Axes>"
            ],
            "image/png": "[encoded data removed]"
          },
          "metadata": {
            "needs_background": "light"
          }
        }
      ]
    },
    {
      "cell_type": "code",
      "source": [
        "count_classes_valid = {'PER': y_val_enc.count(1), 'LOC': y_val_enc.count(2), \n",
        "                 'MISC': y_val_enc.count(3), 'ORG': y_val_enc.count(4), \n",
        "                 }"
      ],
      "metadata": {
        "id": "_XeXgrD-v9uU"
      },
      "execution_count": 18,
      "outputs": []
    },
    {
      "cell_type": "code",
      "source": [
        "count_classes_valid"
      ],
      "metadata": {
        "colab": {
          "base_uri": "https://localhost:8080/"
        },
        "id": "eYNkXgqBAGLu",
        "outputId": "9d3a04af-1f4e-4187-8821-8d8328ce0a27"
      },
      "execution_count": 22,
      "outputs": [
        {
          "output_type": "execute_result",
          "data": {
            "text/plain": [
              "{'LOC': 2094, 'MISC': 1268, 'ORG': 2092, 'PER': 3149}"
            ]
          },
          "metadata": {},
          "execution_count": 22
        }
      ]
    },
    {
      "cell_type": "code",
      "source": [
        "plt.bar(count_classes_valid.keys(), count_classes_valid.values())\n",
        "plt.xlabel(\"CATEGORIES\")\n",
        "plt.ylabel(\"COUNTS\")\n",
        "plt.title(\"VALIDATION SET SAMPLES\");"
      ],
      "metadata": {
        "colab": {
          "base_uri": "https://localhost:8080/",
          "height": 295
        },
        "id": "jsar7Tvo_30T",
        "outputId": "dc53bcbb-30bf-45a1-aa4a-7b032b723f6f"
      },
      "execution_count": 19,
      "outputs": [
        {
          "output_type": "display_data",
          "data": {
            "text/plain": [
              "<Figure size 432x288 with 1 Axes>"
            ],
            "image/png": "[encoded data removed]"
          },
          "metadata": {
            "needs_background": "light"
          }
        }
      ]
    },
    {
      "cell_type": "code",
      "source": [
        "count_classes_test = {'PER': y_test_enc.count(1), 'LOC': y_test_enc.count(2), \n",
        "                 'MISC': y_test_enc.count(3), 'ORG': y_test_enc.count(4), \n",
        "                 }"
      ],
      "metadata": {
        "id": "cOHg7-q0_5qJ"
      },
      "execution_count": 20,
      "outputs": []
    },
    {
      "cell_type": "code",
      "source": [
        "count_classes_test"
      ],
      "metadata": {
        "colab": {
          "base_uri": "https://localhost:8080/"
        },
        "id": "rwCCfi2MA5FG",
        "outputId": "42b52b09-80c3-4e32-f67b-cc5524ba9ce1"
      },
      "execution_count": 23,
      "outputs": [
        {
          "output_type": "execute_result",
          "data": {
            "text/plain": [
              "{'LOC': 1925, 'MISC': 918, 'ORG': 2496, 'PER': 2773}"
            ]
          },
          "metadata": {},
          "execution_count": 23
        }
      ]
    },
    {
      "cell_type": "code",
      "source": [
        "plt.bar(count_classes_test.keys(), count_classes_test.values())\n",
        "plt.xlabel(\"CATEGORIES\")\n",
        "plt.ylabel(\"COUNTS\")\n",
        "plt.title(\"TEST SET SAMPLES\");"
      ],
      "metadata": {
        "colab": {
          "base_uri": "https://localhost:8080/",
          "height": 295
        },
        "id": "lPlrgygP__5i",
        "outputId": "22a1e775-abef-44bb-cf51-91983aa14949"
      },
      "execution_count": 21,
      "outputs": [
        {
          "output_type": "display_data",
          "data": {
            "text/plain": [
              "<Figure size 432x288 with 1 Axes>"
            ],
            "image/png": "[encoded data removed]"
          },
          "metadata": {
            "needs_background": "light"
          }
        }
      ]
    },
    {
      "cell_type": "code",
      "source": [
        ""
      ],
      "metadata": {
        "id": "rrl9p5EoACNg"
      },
      "execution_count": null,
      "outputs": []
    }
  ]
}